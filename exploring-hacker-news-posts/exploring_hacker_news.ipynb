{
 "cells": [
  {
   "cell_type": "markdown",
   "id": "2a1acb35",
   "metadata": {},
   "source": [
    "#                              Exploring Hackers News Posts\n",
    "![Image](https://s3.amazonaws.com/dq-content/354/hacker_news.jpg)\n",
    "\n",
    "\n",
    "In this project, we'll compare two different types of posts from [Hacker News][1], a popular site where technology related stories (or 'posts') are voted and commented upon. The two types of posts we'll explore begin with either `Ask HN` or `Show HN`.\n",
    "\n",
    "Users submit `Ask HN` posts to ask the Hacker News community a specific question, such as \"What is the best online course you've ever taken?\" Likewise, users submit `Show HN` posts to show the Hacker News community a project, product, or just generally something interesting.\n",
    "\n",
    "We'll specifically compare these two types of posts to determine the following:\n",
    "\n",
    "- Do `Ask H` or `Show HN` receive more comments on average?\n",
    "- Do posts created at a certain time receive more comments on average?\n",
    "\n",
    "It should be noted that the data set we're working with was reduced from almost 300,000 rows to approximately 20,000 rows by removing all submissions that did not receive any comments, and then randomly sampling from the remaining submissions.You can find the original data set [here](https://www.kaggle.com/hacker-news/hacker-news-posts).\n",
    "\n",
    "The columns are as folowing:\n",
    "\n",
    "- `id:` the unique identifier from Hacker News for the post\n",
    "- `title:` the title of the post\n",
    "- `url:` the URL that the posts links to, if the post has a URL\n",
    "- `num_points:` the number of points the post acquired, calculated as the total number of upvotes minus the total number of downvotes\n",
    "- `num_comments:` the number of comments on the post\n",
    "- `author:` the username of the person who submitted the post\n",
    "- `created_at:` the date and time of the post's submission\n",
    "\n",
    "\n",
    "Let's start by importing the libraries we need and reading the dataset into a list of lists.\n",
    "\n",
    "[1]:https://news.ycombinator.com/\n"
   ]
  },
  {
   "cell_type": "code",
   "execution_count": 1,
   "id": "804cd411",
   "metadata": {},
   "outputs": [],
   "source": [
    "from csv import reader\n",
    "\n",
    "def open_dataset(file_name):\n",
    "    '''Opens a file and returns the dataset\n",
    "\n",
    "    Args:\n",
    "        path (str): The location of a CSV file.\n",
    "\n",
    "    Returns:\n",
    "        list of lists: each row is list inside a list \n",
    "    '''  \n",
    "    opened_file = open(file_name,  encoding='utf8')\n",
    "    read_file = reader(opened_file)\n",
    "    data = list(read_file)\n",
    "    return data\n",
    "\n",
    "\n",
    "def get_header(data):\n",
    "    '''Get the header from a dataset\n",
    "    \n",
    "    Args:\n",
    "        data(list): list of lists to get header\n",
    "    \n",
    "    Returns:\n",
    "        list: first list in lists or the header\n",
    "    '''\n",
    "    return data[0]\n",
    "\n",
    "\n",
    "def get_data_no_header(data):\n",
    "    '''Get the data without the header row\n",
    "    Args:\n",
    "        data(list): list of lists to drop header\n",
    "    \n",
    "    Returns:\n",
    "        list of lists: the rows without the header row\n",
    "    '''\n",
    "    return data[1:]\n",
    "\n",
    "\n",
    "hn_data=open_dataset(\"data/HN_posts_year_to_Sep_26_2016.csv\")\n",
    "\n",
    "def explore_data(dataset_has_no_header, start, end, rows_and_columns=False):\n",
    "    '''Prints rows of data from strat to end index and the number of rows and columns\n",
    "    if the rows_and_columns flag is set to True\n",
    "    '''\n",
    "    dataset_slice=dataset_has_no_header[start:end]\n",
    "    for row in dataset_slice:\n",
    "        print(f'\\n{row}\\n') #prints row followed by a new line\n",
    "        \n",
    "    if rows_and_columns: \n",
    "        #checks the flag and prints # of rows and columns\n",
    "        print(f'Number of rows:{len(dataset_has_no_header)}')\n",
    "        print(f'Number of columns:{len(dataset_has_no_header[0])}\\n')\n"
   ]
  },
  {
   "cell_type": "code",
   "execution_count": 2,
   "id": "c678c89d-6e29-441e-aa52-03ab21441ac2",
   "metadata": {},
   "outputs": [
    {
     "name": "stdout",
     "output_type": "stream",
     "text": [
      "Header:\n",
      "['id', 'title', 'url', 'num_points', 'num_comments', 'author', 'created_at']\n",
      "\n",
      "\n",
      "['12224879', 'Interactive Dynamic Video', 'http://www.interactivedynamicvideo.com/', '386', '52', 'ne0phyte', '8/4/2016 11:52']\n",
      "\n",
      "\n",
      "['10975351', 'How to Use Open Source and Shut the Fuck Up at the Same Time', 'http://hueniverse.com/2016/01/26/how-to-use-open-source-and-shut-the-fuck-up-at-the-same-time/', '39', '10', 'josep2', '1/26/2016 19:30']\n",
      "\n",
      "\n",
      "['11964716', \"Florida DJs May Face Felony for April Fools' Water Joke\", 'http://www.thewire.com/entertainment/2013/04/florida-djs-april-fools-water-joke/63798/', '2', '1', 'vezycash', '6/23/2016 22:20']\n",
      "\n",
      "\n",
      "['11919867', 'Technology ventures: From Idea to Enterprise', 'https://www.amazon.com/Technology-Ventures-Enterprise-Thomas-Byers/dp/0073523429', '3', '1', 'hswarna', '6/17/2016 0:01']\n",
      "\n",
      "\n",
      "['10301696', 'Note by Note: The Making of Steinway L1037 (2007)', 'http://www.nytimes.com/2007/11/07/movies/07stein.html?_r=0', '8', '2', 'walterbell', '9/30/2015 4:12']\n",
      "\n",
      "Number of rows:20100\n",
      "Number of columns:7\n",
      "\n"
     ]
    }
   ],
   "source": [
    "hn=open_dataset('data\\hacker_news.csv')\n",
    "headers=get_header(hn_data)\n",
    "print(f'Header:\\n{headers}\\n')\n",
    "hn=get_data_no_header(hn)\n",
    "explore_data(hn,0,5,True)"
   ]
  },
  {
   "cell_type": "markdown",
   "id": "1c1cfb00-eb1c-46de-8646-8d0d5ce58547",
   "metadata": {},
   "source": [
    "# Extracting Ask HN and Show HN Posts\n",
    "First, we'll identify posts that begin with either `Ask HN` or `Show HN` and separate the data for those two types of posts into different lists. Separating the data makes it easier to analyze in the following steps.\n"
   ]
  },
  {
   "cell_type": "code",
   "execution_count": 3,
   "id": "87c63e1d",
   "metadata": {},
   "outputs": [
    {
     "name": "stdout",
     "output_type": "stream",
     "text": [
      "Number of different kind of posts:\n",
      "  ask_post_len = 1744\n",
      "  show_posts_len = 1162\n",
      "  other_posts_len =17194\n"
     ]
    }
   ],
   "source": [
    "# Identify posts that begin with either `Ask HN` or `Show HN` and separate the data into different lists.\n",
    "ask_posts=[]\n",
    "show_posts=[]\n",
    "other_posts=[]\n",
    "\n",
    "for row in  hn:\n",
    "    title = row[1] #column 2 is the title\n",
    "    title=title.lower()\n",
    "    \n",
    "    if title.lower().startswith(\"show hn\"):\n",
    "        show_posts.append(row)\n",
    "    elif title.lower().startswith(\"ask hn\"):\n",
    "        ask_posts.append(row)\n",
    "    else:\n",
    "        other_posts.append(row)\n",
    "        \n",
    "ask_post_len=len(ask_posts)\n",
    "show_posts_len=len(show_posts)\n",
    "other_posts_len=len(other_posts)\n",
    "print (f'Number of different kind of posts:\\n  {ask_post_len = }\\n  {show_posts_len = }\\n  {other_posts_len =}')\n",
    "                                      "
   ]
  },
  {
   "cell_type": "markdown",
   "id": "d4b2232f-f1cb-4034-ad05-f6fb4590ec9c",
   "metadata": {},
   "source": [
    "# Calculating the Average Number of Comments for Ask HN and Show HN Posts\n",
    "Now that we separated ask posts and show posts into different lists, we'll calculate the average number of comments each type of post receives."
   ]
  },
  {
   "cell_type": "code",
   "execution_count": 4,
   "id": "eeb2c876",
   "metadata": {},
   "outputs": [
    {
     "name": "stdout",
     "output_type": "stream",
     "text": [
      "total_ask_comments = 24483\n",
      "avg_ask_comments = 14.04\n",
      "Average Rounded Ask Comments = 14\n",
      "\n",
      "------------------------------\n",
      "\n",
      "total_show_comments = 11988\n",
      "avg_show_comments = 10.32\n",
      "Average Rounded Show Comments = 10\n",
      "\n",
      "------------------------------\n",
      "\n"
     ]
    }
   ],
   "source": [
    "total_ask_comments=0\n",
    "for row in ask_posts:\n",
    "    num_comments=int(row[4]) # column 5 is the number of posts\n",
    "    total_ask_comments+=num_comments\n",
    "avg_ask_comments=total_ask_comments/len(ask_posts)\n",
    "\n",
    "\n",
    "print(f'{total_ask_comments = }')\n",
    "print(f'{avg_ask_comments = :.2f}')\n",
    "print(f'Average Rounded Ask Comments = {round(avg_ask_comments)}\\n')\n",
    "\n",
    "total_show_comments=0\n",
    "for row in show_posts:\n",
    "    num_comments=int(row[4]) # column 5 is the number of posts\n",
    "    total_show_comments+=num_comments\n",
    "    avg_show_comments=total_show_comments/len(show_posts)\n",
    "    \n",
    "    \n",
    "print(f'{\"-\"*30}\\n')\n",
    "print(f'{total_show_comments = }')\n",
    "print(f'{avg_show_comments = :.2f}')\n",
    "print(f'Average Rounded Show Comments = {round(avg_show_comments)}\\n')\n",
    "print(f'{\"-\"*30}\\n')\n",
    "\n",
    "# total_other_comments=0\n",
    "# for row in other_posts:\n",
    "#     num_comments=int(row[4])\n",
    "#     total_other_comments+=num_comments\n",
    "#     avg_other_comments=total_other_comments/len(other_posts)\n",
    "\n",
    "# print(f'{\"-\"*30}\\n')\n",
    "# print(f'{total_other_comments = }\\n')\n",
    "# print(f'{avg_other_comments= :2f}\\n')\n",
    "# print(f'Average Rounded other Comments = {round(avg_other_comments)}\\n')\n",
    " "
   ]
  },
  {
   "cell_type": "markdown",
   "id": "fc9f2dd7",
   "metadata": {},
   "source": [
    "On average, `ask posts` in our sample receive approximately `14` comments, whereas `show posts` receive approximately `10`. Since ask posts are more likely to receive comments, we'll focus our remaining analysis just on these posts.\n",
    "\n",
    "We will exract the created_at and number of coments from each row and create a `result_list`\n",
    "\n",
    "then going through that list we create to dictionaries as folowing :\n",
    "\n",
    "- `counts_by_hour:` contains the number of ask posts created during each hour of the day.\n",
    "- `comments_by_hour:` contains the corresponding number of comments ask posts created at each hour received."
   ]
  },
  {
   "cell_type": "code",
   "execution_count": 5,
   "id": "fd6e0dd9",
   "metadata": {},
   "outputs": [
    {
     "name": "stdout",
     "output_type": "stream",
     "text": [
      "counts_by_hour = {'09': 45, '13': 85, '10': 59, '14': 107, '16': 108, '23': 68, '12': 73, '17': 100, '15': 116, '21': 109, '20': 80, '02': 58, '18': 109, '03': 54, '05': 46, '19': 110, '01': 60, '22': 71, '08': 48, '04': 47, '00': 55, '06': 44, '07': 34, '11': 58}\n",
      "comments_by_hour = {'09': 251, '13': 1253, '10': 793, '14': 1416, '16': 1814, '23': 543, '12': 687, '17': 1146, '15': 4477, '21': 1745, '20': 1722, '02': 1381, '18': 1439, '03': 421, '05': 464, '19': 1188, '01': 683, '22': 479, '08': 492, '04': 337, '00': 447, '06': 397, '07': 267, '11': 641}\n"
     ]
    }
   ],
   "source": [
    "import datetime as dt\n",
    "\n",
    "result_list=[]\n",
    "\n",
    "for row in ask_posts:\n",
    "    created_at=row[6] # columns 7 is created_at (%m/%d/%Y %H:%M)\n",
    "    num_comments=int(row[4])  # column 5 is the number of posts\n",
    "    result_list.append(\n",
    "        (created_at,num_comments)\n",
    "    )\n",
    "\n",
    "counts_by_hour , comments_by_hour={},{}\n",
    "date_format='%m/%d/%Y %H:%M'\n",
    "\n",
    "for row in result_list:\n",
    "    hour=row[0] # first element of tuple - date/time\n",
    "    date_object=dt.datetime.strptime(hour, date_format)\n",
    "    hour=f'{date_object:%H}'                             #date_object.strftime(\"%H\")\n",
    "    if hour not in counts_by_hour:\n",
    "        counts_by_hour[hour]=1\n",
    "        comments_by_hour[hour]=row[1] # second element of tuple - number of posts\n",
    "    else:\n",
    "        counts_by_hour[hour]+=1\n",
    "        comments_by_hour[hour]+=row[1]\n",
    "    \n",
    "print(f'{counts_by_hour = }')\n",
    "print(f'{comments_by_hour = }')"
   ]
  },
  {
   "cell_type": "markdown",
   "id": "000a6731",
   "metadata": {},
   "source": [
    "# Calculating the Average Number of Comments for Ask HN Posts by Hour\n",
    "Next, we'll use these two dictionaries to calculate the average number of comments for posts created during each hour of the day.\n",
    "- `avg_by_hour:` is a list of lists containing the hours during which posts were created and the average number of comments those posts received.\n"
   ]
  },
  {
   "cell_type": "code",
   "execution_count": 6,
   "id": "a74f25f6",
   "metadata": {
    "scrolled": true
   },
   "outputs": [
    {
     "name": "stdout",
     "output_type": "stream",
     "text": [
      "Average number of comments by hour sorted, descending):\n",
      "[['09', 5.5777777777777775], ['13', 14.741176470588234], ['10', 13.440677966101696], ['14', 13.233644859813085], ['16', 16.796296296296298], ['23', 7.985294117647059], ['12', 9.41095890410959], ['17', 11.46], ['15', 38.5948275862069], ['21', 16.009174311926607], ['20', 21.525], ['02', 23.810344827586206], ['18', 13.20183486238532], ['03', 7.796296296296297], ['05', 10.08695652173913], ['19', 10.8], ['01', 11.383333333333333], ['22', 6.746478873239437], ['08', 10.25], ['04', 7.170212765957447], ['00', 8.127272727272727], ['06', 9.022727272727273], ['07', 7.852941176470588], ['11', 11.051724137931034]]\n",
      "\n"
     ]
    }
   ],
   "source": [
    "avg_by_hour=[]\n",
    "\n",
    "for hour in counts_by_hour:\n",
    "    avg_by_hour.append([hour,comments_by_hour[hour]/counts_by_hour[hour]])\n",
    "\n",
    "print(f'Average number of comments by hour sorted, descending):\\n{avg_by_hour}\\n')\n"
   ]
  },
  {
   "cell_type": "markdown",
   "id": "eb8a8175-2bf9-4bdb-b613-ab92d44d98be",
   "metadata": {},
   "source": [
    "# Sorting on number of comment and Printing Values from a List of Lists"
   ]
  },
  {
   "cell_type": "markdown",
   "id": "4302fca0",
   "metadata": {},
   "source": [
    "Creat a list with where order is swapped:\n",
    "- `swap_avg_by_hour`\n",
    "\n",
    "Then assign the sorted resuluts from highest average number of comments to lowest by using the sorted method and assign the results to :\n",
    "\n",
    "- `sorted_swap`"
   ]
  },
  {
   "cell_type": "code",
   "execution_count": 7,
   "id": "9157131c",
   "metadata": {},
   "outputs": [
    {
     "name": "stdout",
     "output_type": "stream",
     "text": [
      "sorted_swap = [[38.5948275862069, '15'], [23.810344827586206, '02'], [21.525, '20'], [16.796296296296298, '16'], [16.009174311926607, '21'], [14.741176470588234, '13'], [13.440677966101696, '10'], [13.233644859813085, '14'], [13.20183486238532, '18'], [11.46, '17'], [11.383333333333333, '01'], [11.051724137931034, '11'], [10.8, '19'], [10.25, '08'], [10.08695652173913, '05'], [9.41095890410959, '12'], [9.022727272727273, '06'], [8.127272727272727, '00'], [7.985294117647059, '23'], [7.852941176470588, '07'], [7.796296296296297, '03'], [7.170212765957447, '04'], [6.746478873239437, '22'], [5.5777777777777775, '09']]\n"
     ]
    }
   ],
   "source": [
    "swap_avg_by_hour=[]\n",
    "\n",
    "for element in avg_by_hour:\n",
    "    swap_avg_by_hour.append([element[1],element[0]])\n",
    "    \n",
    "sorted_swap=sorted(swap_avg_by_hour, reverse=True)\n",
    "print(f'{sorted_swap = }')   "
   ]
  },
  {
   "cell_type": "markdown",
   "id": "21c597e0",
   "metadata": {},
   "source": [
    "Then we use the f-strings  to print the hour and average in the following format: `15:00: 38.59 average comments per post`."
   ]
  },
  {
   "cell_type": "code",
   "execution_count": 8,
   "id": "413d05c3",
   "metadata": {},
   "outputs": [
    {
     "name": "stdout",
     "output_type": "stream",
     "text": [
      "Top 5 Hours for Ask Posts Comments\n",
      "15:00:  38.59 average comments per post\n",
      "02:00:  23.81 average comments per post\n",
      "20:00:  21.52 average comments per post\n",
      "16:00:  16.80 average comments per post\n",
      "21:00:  16.01 average comments per post\n"
     ]
    }
   ],
   "source": [
    "# Sort the values and print the the 5 hours with the highest average comments.\n",
    "\n",
    "print(\"Top 5 Hours for Ask Posts Comments\")\n",
    "\n",
    "for avg, hr in sorted_swap[:5]:\n",
    "    print(f'{hr}:00: {avg: .2f} average comments per post')\n",
    "    \n",
    "\n",
    "#the old way :\n",
    "# print(\"Top 5 Hours for Ask Posts Comments\")\n",
    "# template=\"{}:00: {:.2f} average comments per post\"\n",
    "# for avg, hr in sorted_swap[:5]:\n",
    "#     print(template.format(hr,avg))\n",
    "    "
   ]
  },
  {
   "cell_type": "markdown",
   "id": "5fe1aa1f-e8b1-4642-be4b-18dd130284eb",
   "metadata": {},
   "source": [
    "The hour that receives the most comments per post on average is `15:00`, with an `average of 38.59 comments per post`. There's about a `60% increase` in the number of comments between the hours with the highest and second highest average number of comments.\n",
    "\n",
    "# Conclusion\n",
    "In this project, we analyzed ask posts and show posts to determine which type of post and time receive the most comments on average. Based on our analysis, to maximize the amount of comments a post receives, we'd recommend the post be categorized as ask post and created between 15:00 and 16:00.\n",
    "\n",
    "However, it should be noted that the data set we analyzed excluded posts without any comments. Given that, it's more accurate to say that of the posts that received comments, ask posts received more comments on average and ask posts created between 15:00 and 16:00 received the most comments on average."
   ]
  }
 ],
 "metadata": {
  "kernelspec": {
   "display_name": "Python 3",
   "language": "python",
   "name": "python3"
  },
  "language_info": {
   "codemirror_mode": {
    "name": "ipython",
    "version": 3
   },
   "file_extension": ".py",
   "mimetype": "text/x-python",
   "name": "python",
   "nbconvert_exporter": "python",
   "pygments_lexer": "ipython3",
   "version": "3.8.8"
  }
 },
 "nbformat": 4,
 "nbformat_minor": 5
}

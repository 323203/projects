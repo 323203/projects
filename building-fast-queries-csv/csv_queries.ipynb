{
 "cells": [
  {
   "cell_type": "markdown",
   "id": "2187f408-4850-4e45-b524-d2ce1441cc7d",
   "metadata": {},
   "source": [
    "# Building Fast Queries on a CSV \n",
    "The goal of this guided project is to create a class that represents our inventory. The methods in that class will implement the queries that we want to answer about our inventory. We will also preprocess that data to make those queries run faster.\n",
    "\n",
    "Here are some queries that we will want to answer:\n",
    "\n",
    "- Given a laptop id, find the corresponding data.\n",
    "- Given an amount of money, find whether there are two laptops whose total price is that given amount.\n",
    "- Identify all laptops whose price falls within a given budget.\n",
    "\n",
    "\n",
    "We create a `class` named `Inventory`.\n",
    "The class will have a `constructor` that takes the `csv_filename as an argument`. The encoding fo the file provided in our data directory is `UTF-8`.\n",
    "\n",
    "Before we do that lets just explore the file:"
   ]
  },
  {
   "cell_type": "code",
   "execution_count": 1,
   "id": "a6e407d2-fb6d-4548-83bf-2e6c0b447cc8",
   "metadata": {},
   "outputs": [
    {
     "data": {
      "text/plain": [
       "[['Id',\n",
       "  'Company',\n",
       "  'Product',\n",
       "  'TypeName',\n",
       "  'Inches',\n",
       "  'ScreenResolution',\n",
       "  'Cpu',\n",
       "  'Ram',\n",
       "  'Memory',\n",
       "  'Gpu',\n",
       "  'OpSys',\n",
       "  'Weight',\n",
       "  'Price'],\n",
       " ['6571244',\n",
       "  'Apple',\n",
       "  'MacBook Pro',\n",
       "  'Ultrabook',\n",
       "  '13.3',\n",
       "  'IPS Panel Retina Display 2560x1600',\n",
       "  'Intel Core i5 2.3GHz',\n",
       "  '8GB',\n",
       "  '128GB SSD',\n",
       "  'Intel Iris Plus Graphics 640',\n",
       "  'macOS',\n",
       "  '1.37kg',\n",
       "  '1339'],\n",
       " ['7287764',\n",
       "  'Apple',\n",
       "  'Macbook Air',\n",
       "  'Ultrabook',\n",
       "  '13.3',\n",
       "  '1440x900',\n",
       "  'Intel Core i5 1.8GHz',\n",
       "  '8GB',\n",
       "  '128GB Flash Storage',\n",
       "  'Intel HD Graphics 6000',\n",
       "  'macOS',\n",
       "  '1.34kg',\n",
       "  '898'],\n",
       " ['3362737',\n",
       "  'HP',\n",
       "  '250 G6',\n",
       "  'Notebook',\n",
       "  '15.6',\n",
       "  'Full HD 1920x1080',\n",
       "  'Intel Core i5 7200U 2.5GHz',\n",
       "  '8GB',\n",
       "  '256GB SSD',\n",
       "  'Intel HD Graphics 620',\n",
       "  'No OS',\n",
       "  '1.86kg',\n",
       "  '575'],\n",
       " ['9722156',\n",
       "  'Apple',\n",
       "  'MacBook Pro',\n",
       "  'Ultrabook',\n",
       "  '15.4',\n",
       "  'IPS Panel Retina Display 2880x1800',\n",
       "  'Intel Core i7 2.7GHz',\n",
       "  '16GB',\n",
       "  '512GB SSD',\n",
       "  'AMD Radeon Pro 455',\n",
       "  'macOS',\n",
       "  '1.83kg',\n",
       "  '2537']]"
      ]
     },
     "execution_count": 1,
     "metadata": {},
     "output_type": "execute_result"
    }
   ],
   "source": [
    "import csv\n",
    "with open('data/laptops.csv') as f:\n",
    "    reader=csv.reader(f)\n",
    "    rows=list(reader)\n",
    "rows[:5]\n"
   ]
  },
  {
   "cell_type": "markdown",
   "id": "645bb112-fda1-42dd-8419-ed76cc9be3d9",
   "metadata": {},
   "source": [
    "## Inventory class"
   ]
  },
  {
   "cell_type": "code",
   "execution_count": 2,
   "id": "36f9a0fa-ce7b-4fba-88de-21134c10d72d",
   "metadata": {},
   "outputs": [],
   "source": [
    "\n",
    "class Inventory():\n",
    "    def __init__(self,file_name):\n",
    "        with open(f'data/{file_name}',encoding='utf8') as f:\n",
    "            reader=csv.reader(f)\n",
    "            rows=list(reader)\n",
    "        self.header=rows[0]\n",
    "        self.rows=rows[1:]\n",
    "        for row in self.rows:\n",
    "            row[-1]=int(row[-1])"
   ]
  },
  {
   "cell_type": "markdown",
   "id": "662d4c7d-075b-4fbc-bfc0-925e19ba22e5",
   "metadata": {},
   "source": [
    "### Instance creation for testing and returning the header (column names)"
   ]
  },
  {
   "cell_type": "code",
   "execution_count": 3,
   "id": "5c9b7b24-4f0c-4f63-b161-112e4cd0e971",
   "metadata": {},
   "outputs": [
    {
     "data": {
      "text/plain": [
       "['Id',\n",
       " 'Company',\n",
       " 'Product',\n",
       " 'TypeName',\n",
       " 'Inches',\n",
       " 'ScreenResolution',\n",
       " 'Cpu',\n",
       " 'Ram',\n",
       " 'Memory',\n",
       " 'Gpu',\n",
       " 'OpSys',\n",
       " 'Weight',\n",
       " 'Price']"
      ]
     },
     "execution_count": 3,
     "metadata": {},
     "output_type": "execute_result"
    }
   ],
   "source": [
    "my_invetory=Inventory('laptops.csv')\n",
    "my_invetory.header"
   ]
  },
  {
   "cell_type": "markdown",
   "id": "e9f8356f-f54e-47f5-acf9-3b99417842ee",
   "metadata": {},
   "source": [
    "### Checking the number of rows"
   ]
  },
  {
   "cell_type": "code",
   "execution_count": 4,
   "id": "849e1f1a-7e0f-4b09-a6b6-d57bf10f8db3",
   "metadata": {},
   "outputs": [
    {
     "data": {
      "text/plain": [
       "1303"
      ]
     },
     "execution_count": 4,
     "metadata": {},
     "output_type": "execute_result"
    }
   ],
   "source": [
    "len(my_invetory.rows)"
   ]
  },
  {
   "cell_type": "markdown",
   "id": "14cde372-62e6-4320-a3d6-965eb861f8db",
   "metadata": {},
   "source": [
    "## Finding a Laptop From the Id \n",
    "### Adding `get_laptop_from_id()` method to the inventory class\n",
    "The time complexity fir this lookup is `O(R)` where R is the number of rows"
   ]
  },
  {
   "cell_type": "code",
   "execution_count": 5,
   "id": "805bf288-eaa0-418f-b79b-24b25bec147d",
   "metadata": {},
   "outputs": [],
   "source": [
    "class Inventory():\n",
    "    def __init__(self,file_name):\n",
    "        with open(f'data/{file_name}') as f:\n",
    "            reader=csv.reader(f)\n",
    "            rows=list(reader)\n",
    "        self.header=rows[0]\n",
    "        self.rows=rows[1:]\n",
    "        for row in self.rows:\n",
    "            row[-1]=int(row[-1])\n",
    "            \n",
    "    def get_laptop_from_id(self,laptop_id):\n",
    "        for row in self.rows:\n",
    "            if row[0]==laptop_id:\n",
    "                return row\n",
    "         \n",
    "        return None\n",
    "            "
   ]
  },
  {
   "cell_type": "markdown",
   "id": "544fe146-df06-4f20-aa27-dff197584d6c",
   "metadata": {},
   "source": [
    "### Testing the method "
   ]
  },
  {
   "cell_type": "code",
   "execution_count": 6,
   "id": "4e400a40-2afd-4f17-8f31-626eaa9f66d4",
   "metadata": {},
   "outputs": [
    {
     "data": {
      "text/plain": [
       "['3362737',\n",
       " 'HP',\n",
       " '250 G6',\n",
       " 'Notebook',\n",
       " '15.6',\n",
       " 'Full HD 1920x1080',\n",
       " 'Intel Core i5 7200U 2.5GHz',\n",
       " '8GB',\n",
       " '256GB SSD',\n",
       " 'Intel HD Graphics 620',\n",
       " 'No OS',\n",
       " '1.86kg',\n",
       " 575]"
      ]
     },
     "execution_count": 6,
     "metadata": {},
     "output_type": "execute_result"
    }
   ],
   "source": [
    "my_invetory=Inventory('laptops.csv')\n",
    "my_invetory.get_laptop_from_id('3362737')\n"
   ]
  },
  {
   "cell_type": "code",
   "execution_count": 7,
   "id": "935d00c2-9e1c-4778-b794-e91a986c666f",
   "metadata": {},
   "outputs": [
    {
     "name": "stdout",
     "output_type": "stream",
     "text": [
      "None\n"
     ]
    }
   ],
   "source": [
    "print(my_invetory.get_laptop_from_id('3362736'))"
   ]
  },
  {
   "cell_type": "markdown",
   "id": "9c56dea0-7fd6-411d-8613-0b7c78e86068",
   "metadata": {},
   "source": [
    "## Improving Id Lookups\n",
    "### Implementing a second faster method\n",
    "The `get_laptop_from_id()` method has time complexity O(R) where R is the number of rows.To improve the time complexity of finding a laptop with a given id we precompute a dictionary that maps laptop ids to rows. Dictoniary lookups are perfomed in `O(1)`\n",
    "The trade-off is using more memory to store the dictionary and using a bit more time creating an instance (because it needs to create the dictionary).\n",
    "\n",
    "Below we define `get_laptop_from_id_fast` using a disctionary lookup note the dictionary will be defined in the constractor as following:\n",
    "\n",
    "- the laptop ID is the key \n",
    "- the value will be the row corresponding to that laptop ID\n"
   ]
  },
  {
   "cell_type": "code",
   "execution_count": 8,
   "id": "2a4e4eae-7be1-4909-9f5e-438e0d624af5",
   "metadata": {},
   "outputs": [],
   "source": [
    "class Inventory():\n",
    "    def __init__(self,file_name):\n",
    "        with open(f'data/{file_name}') as f:\n",
    "            reader=csv.reader(f)\n",
    "            rows=list(reader)\n",
    "        self.header=rows[0]\n",
    "        self.rows=rows[1:]\n",
    "        for row in self.rows:\n",
    "            row[-1]=int(row[-1])\n",
    "            \n",
    "        #defining the dictionary for fast look-up \n",
    "        self.id_to_row={}\n",
    "        for row in self.rows:\n",
    "            self.id_to_row[row[0]]=row\n",
    "    \n",
    "    def get_laptop_from_id(self,laptop_id):\n",
    "        for row in self.rows:\n",
    "            if row[0]==laptop_id:\n",
    "                return row\n",
    "        return None\n",
    "    \n",
    "    # new faster function is defined using dict                    \n",
    "    def get_laptop_from_id_fast(self,laptop_id):\n",
    "        if laptop_id in self.id_to_row:\n",
    "            return self.id_to_row[laptop_id]      \n",
    "        return None"
   ]
  },
  {
   "cell_type": "markdown",
   "id": "5335aac4-f7be-47ef-af66-d14b0fd98fa9",
   "metadata": {},
   "source": [
    "### Testing the method "
   ]
  },
  {
   "cell_type": "code",
   "execution_count": 9,
   "id": "9c3ada62-bbae-4235-8b23-9d65d2609936",
   "metadata": {},
   "outputs": [
    {
     "data": {
      "text/plain": [
       "['3362737',\n",
       " 'HP',\n",
       " '250 G6',\n",
       " 'Notebook',\n",
       " '15.6',\n",
       " 'Full HD 1920x1080',\n",
       " 'Intel Core i5 7200U 2.5GHz',\n",
       " '8GB',\n",
       " '256GB SSD',\n",
       " 'Intel HD Graphics 620',\n",
       " 'No OS',\n",
       " '1.86kg',\n",
       " 575]"
      ]
     },
     "execution_count": 9,
     "metadata": {},
     "output_type": "execute_result"
    }
   ],
   "source": [
    "my_invetory=Inventory('laptops.csv')\n",
    "my_invetory.get_laptop_from_id_fast('3362737')"
   ]
  },
  {
   "cell_type": "code",
   "execution_count": 10,
   "id": "0743cdb2-16c3-4a8a-b98b-b19d5a9e527c",
   "metadata": {},
   "outputs": [
    {
     "name": "stdout",
     "output_type": "stream",
     "text": [
      "None\n"
     ]
    }
   ],
   "source": [
    "print(my_invetory.get_laptop_from_id('3362736'))"
   ]
  },
  {
   "cell_type": "markdown",
   "id": "9170c07f-513e-46b9-85bb-475bc1aa972c",
   "metadata": {},
   "source": [
    "# Performance comparision:\n",
    "To compare the performance of the two methods. The idea is to generate random IDs using the `random` module. Then, use both methods to lookup these same IDs. We will use the `time` module to measure the execution time of each lookup and, for each method, add all times together. We start by importing the needed modules:"
   ]
  },
  {
   "cell_type": "code",
   "execution_count": 11,
   "id": "bf180a9e-655d-441b-818c-1a38af0a1c8f",
   "metadata": {},
   "outputs": [],
   "source": [
    "import time\n",
    "import random "
   ]
  },
  {
   "cell_type": "markdown",
   "id": "d688f571-ee5b-413e-b190-5346c2b4c564",
   "metadata": {},
   "source": [
    "We generate a list named `ids` with 10,000 random values between \"1000000\" and \"9999999\" (this is the id range). Note the use of strings rather than integers. This is because the IDs in the CSV files are read a strings, not integers. We will convert the integers to strings using the str() function."
   ]
  },
  {
   "cell_type": "code",
   "execution_count": 12,
   "id": "01f44630-284e-428b-9a9b-b6a1cd7e71f1",
   "metadata": {},
   "outputs": [],
   "source": [
    "ids= [str(random.randint(1000000,9999999)) for _ in range(10000)]"
   ]
  },
  {
   "cell_type": "code",
   "execution_count": 13,
   "id": "50900fd5-f97f-40bd-ac9f-4181764e53e6",
   "metadata": {},
   "outputs": [
    {
     "name": "stdout",
     "output_type": "stream",
     "text": [
      "10000\n"
     ]
    },
    {
     "data": {
      "text/plain": [
       "str"
      ]
     },
     "execution_count": 13,
     "metadata": {},
     "output_type": "execute_result"
    }
   ],
   "source": [
    "print(len(ids))\n",
    "type(ids[1])"
   ]
  },
  {
   "cell_type": "markdown",
   "id": "0ee2d8d5-8b31-4f8a-85f0-a40740ff4490",
   "metadata": {},
   "source": [
    "Next we create an instance of `Inventory` by giving 'laptops.csv' as argument and initialize a variable named `total_time_no_dict` and set it to 0. This variable will aggregate the times of calling get_laptop_from_id()."
   ]
  },
  {
   "cell_type": "code",
   "execution_count": 14,
   "id": "0f807fb2-f89b-4262-8d28-4882169d90fd",
   "metadata": {},
   "outputs": [
    {
     "data": {
      "text/plain": [
       "0.9290003776550293"
      ]
     },
     "execution_count": 14,
     "metadata": {},
     "output_type": "execute_result"
    }
   ],
   "source": [
    "test_invetory=Inventory('laptops.csv')\n",
    "total_time_no_dict=0\n",
    "\n",
    "for id in ids:\n",
    "    start=time.time()\n",
    "    test_invetory.get_laptop_from_id(id)\n",
    "    end=time.time()\n",
    "    total_time_no_dict+=(end-start)\n",
    "\n",
    "total_time_no_dict    "
   ]
  },
  {
   "cell_type": "markdown",
   "id": "49a47d55-f358-4011-bbbb-65a5810c810c",
   "metadata": {},
   "source": [
    "next we initialize another variable named `total_time_dict` and set it to 0. This variable will aggregate the times of calling `get_laptop_from_id_fast()`."
   ]
  },
  {
   "cell_type": "code",
   "execution_count": 15,
   "id": "d241ebf3-1fb1-4f1a-b270-da8fc849621f",
   "metadata": {},
   "outputs": [
    {
     "data": {
      "text/plain": [
       "0.0110015869140625"
      ]
     },
     "execution_count": 15,
     "metadata": {},
     "output_type": "execute_result"
    }
   ],
   "source": [
    "total_time_dict=0\n",
    "\n",
    "for id in ids:\n",
    "    start=time.time()\n",
    "    test_invetory.get_laptop_from_id_fast(id)\n",
    "    end=time.time()\n",
    "    total_time_dict+=(end-start)\n",
    "\n",
    "total_time_dict "
   ]
  },
  {
   "cell_type": "markdown",
   "id": "a6b39d19-65e2-433c-bf56-0946941133e6",
   "metadata": {},
   "source": [
    "# Analysing the results\n"
   ]
  },
  {
   "cell_type": "code",
   "execution_count": 16,
   "id": "2df3d0c0-d66d-49a8-a1e7-2af551c71a11",
   "metadata": {},
   "outputs": [
    {
     "name": "stdout",
     "output_type": "stream",
     "text": [
      "We can see a significant improvment in performance. The new method is:84.44239771151179 times faster.\n"
     ]
    }
   ],
   "source": [
    "print(f'We can see a significant improvment in performance. The new method is:\\\n",
    "{total_time_no_dict/total_time_dict} times faster.')"
   ]
  },
  {
   "cell_type": "markdown",
   "id": "398f74a7-a9e1-4102-b626-0e29cf490156",
   "metadata": {},
   "source": [
    "# Laptop promotion:\n",
    "Sometimes, your store offers a promotion where you give a gift card. A customer can use the gift to buy up to two laptops. To avoid having to keep track of what was already spent, the gift card has a single time usage. This means that, even if there is leftover money, it cannot be used anymore.\n",
    "\n",
    "For example, imagine that there are only three laptops in inventory:\n",
    "\n",
    "\n",
    "<center><img src=\"https://dq-content.s3.amazonaws.com/481/laptop_promotion.png\"/></center>       \n",
    "\n",
    "\n",
    "laptop promotion\n",
    "The prices of these laptops are \\\\$1,339, \\\\$898, and \\\\$575. Say we offered a gift card of $\\\\2,500. Since a customer can buy, at most, two laptops with a gift card, the maximum they can spend is \\\\$2,237 (\\\\$1,339 plus \\\\$898). Therefore, they might feel cheated because, no matter how they spend their gift card, they cannot spend the full \\\\$2,500.\n",
    "\n",
    "You don't want to make a customer feel cheated, so whenever you issue a gift card, you want to make sure that there is at least one way to spend it in full. In other words, before issuing a gift card for D dollars, you want to make sure that either there is a laptop that costs exactly D dollars or two laptops whose costs add up to precisely D dollars.\n",
    "\n",
    "We write a function that, given a dollar amount, checks whether it is possible to spend precisely that amount by purchasing up to two laptops."
   ]
  },
  {
   "cell_type": "code",
   "execution_count": 17,
   "id": "e0f3829b-afe2-414d-911f-4b8a150a0cac",
   "metadata": {},
   "outputs": [],
   "source": [
    "class Inventory():\n",
    "    def __init__(self,file_name):\n",
    "        with open(f'data/{file_name}') as f:\n",
    "            reader=csv.reader(f)\n",
    "            rows=list(reader)\n",
    "        self.header=rows[0]\n",
    "        self.rows=rows[1:]\n",
    "        for row in self.rows:\n",
    "            row[-1]=int(row[-1])\n",
    "            \n",
    "        #defining the dictionary for fast look-up \n",
    "        self.id_to_row={}\n",
    "        for row in self.rows:\n",
    "            self.id_to_row[row[0]]=row\n",
    "    \n",
    "    def get_laptop_from_id(self,laptop_id):\n",
    "        for row in self.rows:\n",
    "            if row[0]==laptop_id:\n",
    "                return row\n",
    "        return None\n",
    "    \n",
    "    # new faster function is defined using dict                    \n",
    "    def get_laptop_from_id_fast(self,laptop_id):\n",
    "        if laptop_id in self.id_to_row:\n",
    "            return self.id_to_row[laptop_id]      \n",
    "        return None\n",
    "    \n",
    "    def check_promotion_dollars(self,dollars):\n",
    "        for row in self.rows:\n",
    "            if row[-1]==dollars:\n",
    "                return True\n",
    "        for row in self.rows:\n",
    "            for row2 in self.rows:\n",
    "                if row[-1]+row2[-1]== dollars:\n",
    "                    return True\n",
    "        return False"
   ]
  },
  {
   "cell_type": "markdown",
   "id": "694a779c-2bbc-43ab-aba1-fa5a7fdaad0d",
   "metadata": {},
   "source": [
    "### Testing the new method:"
   ]
  },
  {
   "cell_type": "code",
   "execution_count": 18,
   "id": "2915dbc4-124c-45fd-8edd-10fbe7d60f65",
   "metadata": {},
   "outputs": [
    {
     "name": "stdout",
     "output_type": "stream",
     "text": [
      "True\n",
      "False\n"
     ]
    }
   ],
   "source": [
    "inventory = Inventory('laptops.csv')               \n",
    "print(inventory.check_promotion_dollars(1000))     \n",
    "print(inventory.check_promotion_dollars(442))  "
   ]
  },
  {
   "cell_type": "markdown",
   "id": "89ddcc7a-ea28-4a50-afe4-e7ab28802664",
   "metadata": {},
   "source": [
    "## Optimizing Laptop Promotion\n",
    "Since we only care about whether or not there is a solution, we can store all laptops prices in a set when we initialize the inventory `self.inventory`. Then we can check in constant time whether there is a laptop with a given price.\n",
    "\n",
    "We are going to use the set to implement `check_promotion_dollars_fast()`"
   ]
  },
  {
   "cell_type": "code",
   "execution_count": 19,
   "id": "d6891be2-7d2a-4fda-96c3-6b84e698d5fd",
   "metadata": {},
   "outputs": [],
   "source": [
    "class Inventory():\n",
    "    def __init__(self,file_name):\n",
    "        with open(f'data/{file_name}') as f:\n",
    "            reader=csv.reader(f)\n",
    "            rows=list(reader)\n",
    "        self.header=rows[0]\n",
    "        self.rows=rows[1:]\n",
    "        for row in self.rows:\n",
    "            row[-1]=int(row[-1])\n",
    "            \n",
    "        # using a set to store all prices\n",
    "        self.prices=set()\n",
    "        for row in self.rows:\n",
    "            self.prices.add(row[-1])\n",
    "        \n",
    "            \n",
    "        #defining the dictionary for fast look-up \n",
    "        self.id_to_row={}\n",
    "        for row in self.rows:\n",
    "            self.id_to_row[row[0]]=row\n",
    "    \n",
    "    def get_laptop_from_id(self,laptop_id):\n",
    "        for row in self.rows:\n",
    "            if row[0]==laptop_id:\n",
    "                return row\n",
    "        return None\n",
    "    \n",
    "    # new faster function is defined using dict                    \n",
    "    def get_laptop_from_id_fast(self,laptop_id):\n",
    "        if laptop_id in self.id_to_row:\n",
    "            return self.id_to_row[laptop_id]      \n",
    "        return None\n",
    "    \n",
    "    def check_promotion_dollars(self,dollars):\n",
    "        for row in self.rows:\n",
    "            if row[-1]==dollars:\n",
    "                return True\n",
    "        for row in self.rows:\n",
    "            for row2 in self.rows:\n",
    "                if row[-1]+row2[-1]== dollars:\n",
    "                    return True\n",
    "        return False\n",
    "    \n",
    "    \n",
    "    # new check_promotion_dollars_fast() using the set we created for prices\n",
    "    def check_promotion_dollars_fast(self,dollars):\n",
    "        if dollars in self.prices:\n",
    "            return True\n",
    "        for price in self.prices:\n",
    "            if dollars-price in self.prices:\n",
    "                return True\n",
    "        return False           \n",
    "            "
   ]
  },
  {
   "cell_type": "markdown",
   "id": "1db820fd-8f12-4db1-a839-6d2817b29363",
   "metadata": {},
   "source": [
    "### Testing check_promotion_dollars_fast()"
   ]
  },
  {
   "cell_type": "code",
   "execution_count": 20,
   "id": "c2224468-531c-4445-ba37-a302e45ecbdd",
   "metadata": {},
   "outputs": [
    {
     "name": "stdout",
     "output_type": "stream",
     "text": [
      "True\n",
      "False\n"
     ]
    }
   ],
   "source": [
    "inventory = Inventory('laptops.csv')                 \n",
    "print(inventory.check_promotion_dollars_fast(1000))  \n",
    "print(inventory.check_promotion_dollars_fast(442))  "
   ]
  },
  {
   "cell_type": "markdown",
   "id": "de4d47b6-5da7-48ff-b35f-b6c017cb329c",
   "metadata": {},
   "source": [
    "### Comparing Promotion Functions\n",
    "To do the time comparison simlart to before we are going to:\n",
    "\n",
    "- Generate a list named `prices` with 100 random values between 100 and 5,000.\n",
    "- Initialize a variable named `total_time_no_set` , `total_time_set` to aggregate the times of calling the old vs the new function\n",
    "- compare the results"
   ]
  },
  {
   "cell_type": "code",
   "execution_count": 21,
   "id": "aa34afdf-4da0-4be4-b0d9-5cf0a47c67be",
   "metadata": {},
   "outputs": [
    {
     "name": "stdout",
     "output_type": "stream",
     "text": [
      "4352\n"
     ]
    },
    {
     "data": {
      "text/plain": [
       "100"
      ]
     },
     "execution_count": 21,
     "metadata": {},
     "output_type": "execute_result"
    }
   ],
   "source": [
    "prices=[random.randint(100,5000) for _ in range(100)]\n",
    "print(prices[-1])\n",
    "len(prices)"
   ]
  },
  {
   "cell_type": "code",
   "execution_count": 22,
   "id": "b0eae748-4918-450c-b204-9cd26096dc54",
   "metadata": {},
   "outputs": [
    {
     "name": "stdout",
     "output_type": "stream",
     "text": [
      "Thetotal time running the old promotion function is1.8959977626800537.      \n",
      "The total time using the new faster function is 0.0009996891021728516.      \n",
      "Which is 1896.5874075840686 faster.\n"
     ]
    }
   ],
   "source": [
    "inventory = Inventory('laptops.csv')\n",
    "\n",
    "total_time_no_set=0\n",
    "for price in prices:\n",
    "    start=time.time()\n",
    "    inventory.check_promotion_dollars(price)\n",
    "    end=time.time()\n",
    "    total_time_no_set+=(end-start)\n",
    "\n",
    "total_time_set=0\n",
    "for price in prices:\n",
    "    start=time.time()\n",
    "    inventory.check_promotion_dollars_fast(price)\n",
    "    end=time.time()\n",
    "    total_time_set+=(end-start)\n",
    "    \n",
    "print(f'Thetotal time running the old promotion function is{total_time_no_set}.\\\n",
    "      \\nThe total time using the new faster function is {total_time_set}.\\\n",
    "      \\nWhich is {total_time_no_set/total_time_set} faster.')   \n",
    "    "
   ]
  },
  {
   "cell_type": "markdown",
   "id": "1d51b773-09d5-4c76-95d6-0d135d0cdbd3",
   "metadata": {},
   "source": [
    "# Finding laptops within a budget\n",
    "we want to write a method that efficiently answers the query: Given a budget of D dollars, find all laptops whose price it at most D.\n",
    "\n",
    "If we sort all laptops by price, we can use binary search to identify the first laptop in the sorted list with a price larger than D. We need to make sure that our binary search finds the first one on the list. Then, the result of the query will consist of all laptops whose index in the sorted list is smaller than the index of the first laptop whose price is higher than D dollars:\n",
    "\n",
    "\n",
    "![](https://dq-content.s3.amazonaws.com/481/laptop_budget.png)"
   ]
  },
  {
   "cell_type": "markdown",
   "id": "b12d9e07-671f-4d2e-be7a-7afcaab33730",
   "metadata": {},
   "source": [
    "- At the end of the `__init__()` method, we will use the sorted() function to sort the rows by price and assign the result to `self.rows_by_price`\n",
    "- Implement a method named `find_first_laptop_more_expensive()` that is based on the `binary search algorithm`. This method should take two arguments: self and price. It should return the index of the first row in self.rows_by_price whose price is higher than price. Return -1 if there is no such index."
   ]
  },
  {
   "cell_type": "code",
   "execution_count": 23,
   "id": "158e98c3-d66c-4b6e-869b-d9dea126d9fb",
   "metadata": {},
   "outputs": [],
   "source": [
    "class Inventory():\n",
    "    def __init__(self,file_name):\n",
    "        with open(f'data/{file_name}') as f:\n",
    "            reader=csv.reader(f)\n",
    "            rows=list(reader)\n",
    "        self.header=rows[0]\n",
    "        self.rows=rows[1:]\n",
    "        for row in self.rows:\n",
    "            row[-1]=int(row[-1])\n",
    "            \n",
    "        # using a set to store all prices\n",
    "        self.prices=set()\n",
    "        for row in self.rows:\n",
    "            self.prices.add(row[-1])\n",
    "        \n",
    "        #sorting rows by prices\n",
    "        self.rows_by_price=sorted(self.rows, key=lambda row: row[-1])\n",
    "        \n",
    "            \n",
    "        #defining the dictionary for fast look-up \n",
    "        self.id_to_row={}\n",
    "        for row in self.rows:\n",
    "            self.id_to_row[row[0]]=row\n",
    "    \n",
    "    def get_laptop_from_id(self,laptop_id):\n",
    "        for row in self.rows:\n",
    "            if row[0]==laptop_id:\n",
    "                return row\n",
    "        return None\n",
    "    \n",
    "    # new faster function is defined using dict                    \n",
    "    def get_laptop_from_id_fast(self,laptop_id):\n",
    "        if laptop_id in self.id_to_row:\n",
    "            return self.id_to_row[laptop_id]      \n",
    "        return None\n",
    "    \n",
    "    def check_promotion_dollars(self,dollars):\n",
    "        for row in self.rows:\n",
    "            if row[-1]==dollars:\n",
    "                return True\n",
    "        for row in self.rows:\n",
    "            for row2 in self.rows:\n",
    "                if row[-1]+row2[-1]== dollars:\n",
    "                    return True\n",
    "        return False\n",
    "        \n",
    "    def check_promotion_dollars_fast(self,dollars):\n",
    "        if dollars in self.prices:\n",
    "            return True\n",
    "        for price in self.prices:\n",
    "            if dollars-price in self.prices:\n",
    "                return True\n",
    "        return False   \n",
    "    \n",
    "    \n",
    "    def find_first_laptop_more_expensive(self, target_price):\n",
    "        range_start=0\n",
    "        range_end=len(self.rows_by_price)-1\n",
    "        while range_start<range_end:\n",
    "            range_middle= (range_start+range_end)//2\n",
    "            price=self.rows_by_price[range_middle][-1]\n",
    "            if price > target_price:\n",
    "                range_end = range_middle\n",
    "            else:\n",
    "                range_start = range_middle + 1\n",
    "        if self.rows_by_price[range_start][-1] <= target_price:                  \n",
    "            return -1                                   \n",
    "        return range_start"
   ]
  },
  {
   "cell_type": "markdown",
   "id": "d583fb68-2280-42b7-9430-725123e5d97e",
   "metadata": {},
   "source": [
    "# Testing the new method:"
   ]
  },
  {
   "cell_type": "code",
   "execution_count": 24,
   "id": "26e03da0-c53e-4fa8-8de4-58a5f2cce471",
   "metadata": {},
   "outputs": [
    {
     "name": "stdout",
     "output_type": "stream",
     "text": [
      "683\n",
      "-1\n"
     ]
    }
   ],
   "source": [
    "inventory = Inventory('laptops.csv')\n",
    "print(inventory.find_first_laptop_more_expensive(1000))\n",
    "print(inventory.find_first_laptop_more_expensive(10000))"
   ]
  },
  {
   "cell_type": "markdown",
   "id": "d151eb73-9a07-44a0-97cf-b29a1d476cd5",
   "metadata": {},
   "source": [
    "Checking the prices for indexes around 683 to see if we gor the correct index:"
   ]
  },
  {
   "cell_type": "code",
   "execution_count": 25,
   "id": "45cb3b59-2c84-4e5b-bdcc-7badbda8af34",
   "metadata": {},
   "outputs": [
    {
     "name": "stdout",
     "output_type": "stream",
     "text": [
      "price for index#:680 is 999\n",
      "price for index#:681 is 999\n",
      "price for index#:682 is 1000\n",
      "price for index#:683 is 1002\n",
      "price for index#:684 is 1008\n"
     ]
    }
   ],
   "source": [
    "for index in range(680,685):\n",
    "    print(f'price for index#:{index} is {inventory.rows_by_price [index][-1]}')"
   ]
  },
  {
   "cell_type": "code",
   "execution_count": null,
   "id": "ec237da7-f56d-4555-b6c5-bb0547fc49e0",
   "metadata": {},
   "outputs": [],
   "source": []
  }
 ],
 "metadata": {
  "kernelspec": {
   "display_name": "Python 3",
   "language": "python",
   "name": "python3"
  },
  "language_info": {
   "codemirror_mode": {
    "name": "ipython",
    "version": 3
   },
   "file_extension": ".py",
   "mimetype": "text/x-python",
   "name": "python",
   "nbconvert_exporter": "python",
   "pygments_lexer": "ipython3",
   "version": "3.8.8"
  }
 },
 "nbformat": 4,
 "nbformat_minor": 5
}

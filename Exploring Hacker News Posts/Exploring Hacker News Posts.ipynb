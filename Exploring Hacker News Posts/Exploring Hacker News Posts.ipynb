{
 "cells": [
  {
   "cell_type": "markdown",
   "id": "2a1acb35",
   "metadata": {},
   "source": [
    "![Image](https://s3.amazonaws.com/dq-content/354/hacker_news.jpg)\n",
    "\n",
    "Hacker News is a site started by the startup incubator Y Combinator, where user-submitted stories (known as \"posts\") receive votes and comments, similar to reddit. Hacker News is extremely popular in technology and startup circles, and posts that make it to the top of the Hacker News listings can get hundreds of thousands of visitors as a result.\n",
    "\n",
    "You can find the data set [here](https://www.kaggle.com/hacker-news/hacker-news-posts), but note that we have reduced from almost 300,000 rows to approximately 20,000 rows by removing all submissions that didn't receive any comments and then randomly sampling from the remaining submissions. Below are descriptions of the columns:\n",
    "\n",
    "- `id:` the unique identifier from Hacker News for the post\n",
    "- `title:` the title of the post\n",
    "- `url:` the URL that the posts links to, if the post has a URL\n",
    "- `num_points:` the number of points the post acquired, calculated as the total number of upvotes minus the total number of downvotes\n",
    "- `num_comments:` the number of comments on the post\n",
    "- `author:` the username of the person who submitted the post\n",
    "- `created_at:` the date and time of the post's submission\n",
    "\n",
    "In this project, we'll work with a dataset of submissions to popular technology site Hacker News.\n",
    "\n",
    "We're specifically interested in posts with titles that begin with either `Ask HN` or `Show HN`. Users submit Ask HN posts to ask the Hacker News community a specific question.\n",
    "\n",
    "We'll compare these two types of posts to determine the following:\n",
    "\n",
    "- Do Ask HN or Show HN receive more comments on average?\n",
    "- Do posts created at a certain time receive more comments on average?\n",
    "\n",
    "Let's start by importing the libraries we need and reading the dataset into a list of lists."
   ]
  },
  {
   "cell_type": "code",
   "execution_count": 1,
   "id": "804cd411",
   "metadata": {},
   "outputs": [
    {
     "name": "stdout",
     "output_type": "stream",
     "text": [
      "['id', 'title', 'url', 'num_points', 'num_comments', 'author', 'created_at'] \n",
      "\n",
      "[['12579008', 'You have two days to comment if you want stem cells to be classified as your own', 'http://www.regulations.gov/document?D=FDA-2015-D-3719-0018', '1', '0', 'altstar', '9/26/2016 3:26'], ['12579005', 'SQLAR  the SQLite Archiver', 'https://www.sqlite.org/sqlar/doc/trunk/README.md', '1', '0', 'blacksqr', '9/26/2016 3:24'], ['12578997', 'What if we just printed a flatscreen television on the side of our boxes?', 'https://medium.com/vanmoof/our-secrets-out-f21c1f03fdc8#.ietxmez43', '1', '0', 'pavel_lishin', '9/26/2016 3:19'], ['12578989', 'algorithmic music', 'http://cacm.acm.org/magazines/2011/7/109891-algorithmic-composition/fulltext', '1', '0', 'poindontcare', '9/26/2016 3:16'], ['12578979', 'How the Data Vault Enables the Next-Gen Data Warehouse and Data Lake', 'https://www.talend.com/blog/2016/05/12/talend-and-Â\\x93the-data-vaultÂ\\x94', '1', '0', 'markgainor1', '9/26/2016 3:14']]\n",
      "7\n",
      "Number of rows: 293119\n",
      " Number of Columns\n"
     ]
    }
   ],
   "source": [
    "from csv import reader\n",
    "file_open= open(\"data/HN_posts_year_to_Sep_26_2016.csv\",  encoding='utf-8')\n",
    "file_read= reader(file_open)\n",
    "hn_data=list(file_read)\n",
    "\n",
    "\n",
    "headers=hn_data[0]\n",
    "print(headers, \"\\n\")\n",
    "hn_data=hn_data[1:]\n",
    "print(hn_data[:5])\n",
    "\n",
    "print(len(hn_data[0]))\n",
    "print(\"Number of rows: {}\\n Number of Columns\".format(len(hn_data),len(hn_data[0])))\n"
   ]
  },
  {
   "cell_type": "markdown",
   "id": "f9490cdb",
   "metadata": {},
   "source": [
    "We can see that demonstrated above posts have 0 (zero) comments. As our goal to examine posts that get more comments, we will clean our dataset from posts that don't have comments."
   ]
  },
  {
   "cell_type": "code",
   "execution_count": 2,
   "id": "686c66b4",
   "metadata": {},
   "outputs": [
    {
     "name": "stdout",
     "output_type": "stream",
     "text": [
      "Number of rows with '0' points: 0\n",
      "Number of rows in dataset: 80401\n",
      "First 5 rows:\n",
      "['12578975', 'Saving the Hassle of Shopping', 'https://blog.menswr.com/2016/09/07/whats-new-with-your-style-feed/', '1', '1', 'bdoux', '9/26/2016 3:13']\n",
      "['12578908', 'Ask HN: What TLD do you use for local development?', '', '4', '7', 'Sevrene', '9/26/2016 2:53']\n",
      "['12578822', 'Amazons Algorithms Dont Find You the Best Deals', 'https://www.technologyreview.com/s/602442/amazons-algorithms-dont-find-you-the-best-deals/', '1', '1', 'yarapavan', '9/26/2016 2:26']\n",
      "['12578694', 'Emergency dose of epinephrine that does not cost an arm and a leg', 'http://m.imgur.com/gallery/th6Ua', '2', '1', 'dredmorbius', '9/26/2016 1:54']\n",
      "['12578624', 'Phone Makers Could Cut Off Drivers. So Why Dont They?', 'http://www.nytimes.com/2016/09/25/technology/phone-makers-could-cut-off-drivers-so-why-dont-they.html', '4', '1', 'danso', '9/26/2016 1:37']\n"
     ]
    }
   ],
   "source": [
    "# collecting rows with comments in separate list 'hn'\n",
    "hn = []\n",
    "for row in hn_data:\n",
    "    if row[4] != '0':\n",
    "        hn.append(row)\n",
    "\n",
    "# checking if there are rows with '0' points\n",
    "number_points_0 = 0\n",
    "for row in hn:\n",
    "    if row[3] == '0':\n",
    "        number_points_0 += 1\n",
    "print(\"Number of rows with '0' points:\", number_points_0)        \n",
    "\n",
    "print('Number of rows in dataset:', len(hn))  \n",
    "\n",
    "print('First 5 rows:')\n",
    "\n",
    "for row in hn[:5]:\n",
    "    print(row)"
   ]
  },
  {
   "cell_type": "code",
   "execution_count": 3,
   "id": "87c63e1d",
   "metadata": {},
   "outputs": [
    {
     "name": "stdout",
     "output_type": "stream",
     "text": [
      "6911 \n",
      "\n",
      " 5059 \n",
      "\n",
      " 68431 \n",
      "\n",
      "\n"
     ]
    }
   ],
   "source": [
    "ask_posts=[]\n",
    "show_posts=[]\n",
    "other_posts=[]\n",
    "for row in  hn:\n",
    "    title = row[1]\n",
    "    title=title.lower()\n",
    "    \n",
    "    if title.startswith(\"show hn\"):\n",
    "        show_posts.append(row)\n",
    "    elif title.startswith(\"ask hn\"):\n",
    "        ask_posts.append(row)\n",
    "    else:\n",
    "        other_posts.append(row)\n",
    "\n",
    "print (len(ask_posts),\"\\n\\n\", len(show_posts),\"\\n\\n\", len(other_posts),\"\\n\\n\")\n",
    "\n",
    "    \n",
    "                                        "
   ]
  },
  {
   "cell_type": "code",
   "execution_count": 4,
   "id": "eeb2c876",
   "metadata": {},
   "outputs": [
    {
     "name": "stdout",
     "output_type": "stream",
     "text": [
      "Total Ask Comments = 94986\n",
      "\n",
      "\n",
      "Average Ask Comments = 13.744175951381855\n",
      "Average Rounded Ask Comments = 14\n",
      "\n",
      "\n",
      "Total Show Comments = 49633\n",
      "\n",
      "\n",
      "Average Show Comments = 9.810832180272781\n",
      "Average Rounded Show Comments = 10\n",
      "\n",
      "\n",
      "Total other Comments = 1768142\n",
      "\n",
      "\n",
      "Average other Comments = 25.838318890561297\n",
      "Average Rounded other Comments = 26\n"
     ]
    }
   ],
   "source": [
    "total_ask_comments=0\n",
    "for row in ask_posts:\n",
    "    num_comments=int(row[4])\n",
    "    total_ask_comments+=num_comments\n",
    "avg_ask_comments=total_ask_comments/len(ask_posts)\n",
    "\n",
    "\n",
    "print('Total Ask Comments =', total_ask_comments)\n",
    "print('\\n')\n",
    "print('Average Ask Comments =', avg_ask_comments)\n",
    "print('Average Rounded Ask Comments =', round(avg_ask_comments))\n",
    "\n",
    "total_show_comments=0\n",
    "for row in show_posts:\n",
    "    num_comments=int(row[4])\n",
    "    total_show_comments+=num_comments\n",
    "    avg_show_comments=total_show_comments/len(show_posts)\n",
    "\n",
    "\n",
    "    \n",
    "print('\\n')\n",
    "print('Total Show Comments =', total_show_comments)\n",
    "print('\\n')\n",
    "print('Average Show Comments =', avg_show_comments)\n",
    "print('Average Rounded Show Comments =', round(avg_show_comments))\n",
    "\n",
    "total_other_comments=0\n",
    "for row in other_posts:\n",
    "    num_comments=int(row[4])\n",
    "    total_other_comments+=num_comments\n",
    "    avg_other_comments=total_other_comments/len(other_posts)\n",
    "\n",
    "print('\\n')\n",
    "print('Total other Comments =', total_other_comments)\n",
    "print('\\n')\n",
    "print('Average other Comments =', avg_other_comments)\n",
    "print('Average Rounded other Comments =', round(avg_other_comments))\n",
    "    "
   ]
  },
  {
   "cell_type": "markdown",
   "id": "fc9f2dd7",
   "metadata": {},
   "source": [
    "The findings above show that `ask posts` get more comments on average\n",
    "\n",
    "We will exract the created_at and number of coments from each row and create a `result_list`\n",
    "\n",
    "then going through that list we create to dictionaries as folowing :\n",
    "\n",
    "- `counts_by_hour:` contains the number of ask posts created during each hour of the day.\n",
    "- `comments_by_hour:` contains the corresponding number of comments ask posts created at each hour received."
   ]
  },
  {
   "cell_type": "code",
   "execution_count": 5,
   "id": "fd6e0dd9",
   "metadata": {},
   "outputs": [
    {
     "name": "stdout",
     "output_type": "stream",
     "text": [
      "{'02': 227, '01': 223, '22': 287, '21': 407, '19': 420, '17': 404, '15': 467, '14': 378, '13': 326, '11': 251, '10': 219, '09': 176, '07': 157, '03': 212, '16': 415, '08': 190, '00': 231, '23': 276, '20': 392, '18': 452, '12': 274, '04': 186, '06': 176, '05': 165}\n",
      "{'02': 2996, '01': 2089, '22': 3372, '21': 4500, '19': 3954, '17': 5547, '15': 18525, '14': 4972, '13': 7245, '11': 2797, '10': 3013, '09': 1477, '07': 1585, '03': 2154, '16': 4466, '08': 2362, '00': 2277, '23': 2297, '20': 4462, '18': 4877, '12': 4234, '04': 2360, '06': 1587, '05': 1838}\n"
     ]
    }
   ],
   "source": [
    "import datetime as dt\n",
    "result_list=[]\n",
    "for row in ask_posts:\n",
    "    created_at=row[6]\n",
    "    num_comments=int(row[4])\n",
    "    result_list.append((created_at,num_comments))\n",
    "\n",
    "counts_by_hour , comments_by_hour={},{}\n",
    "\n",
    "for row in result_list:\n",
    "    hour=row[0]\n",
    "    date_object=dt.datetime.strptime(hour,\"%m/%d/%Y %H:%M\")\n",
    "    hour=date_object.strftime(\"%H\")\n",
    "    if hour not in counts_by_hour:\n",
    "        counts_by_hour[hour]=1\n",
    "        comments_by_hour[hour]=row[1]\n",
    "    else:\n",
    "        counts_by_hour[hour]+=1\n",
    "        comments_by_hour[hour]+=row[1]\n",
    "    \n",
    "print(counts_by_hour)\n",
    "print(comments_by_hour)\n",
    "    \n",
    "    \n",
    "    "
   ]
  },
  {
   "cell_type": "markdown",
   "id": "000a6731",
   "metadata": {},
   "source": [
    "Next, we'll use these two dictionaries to calculate the average number of comments for posts created during each hour of the day.\n",
    "- `avg_by_hour:` is a list of lists containing the hours during which posts were created and the average number of comments those posts received.\n"
   ]
  },
  {
   "cell_type": "code",
   "execution_count": 6,
   "id": "a74f25f6",
   "metadata": {
    "scrolled": true
   },
   "outputs": [
    {
     "name": "stdout",
     "output_type": "stream",
     "text": [
      "[['00', 9.857142857142858], ['01', 9.367713004484305], ['02', 13.198237885462555], ['03', 10.160377358490566], ['04', 12.688172043010752], ['05', 11.139393939393939], ['06', 9.017045454545455], ['07', 10.095541401273886], ['08', 12.43157894736842], ['09', 8.392045454545455], ['10', 13.757990867579908], ['11', 11.143426294820717], ['12', 15.452554744525548], ['13', 22.2239263803681], ['14', 13.153439153439153], ['15', 39.66809421841542], ['16', 10.76144578313253], ['17', 13.73019801980198], ['18', 10.789823008849558], ['19', 9.414285714285715], ['20', 11.38265306122449], ['21', 11.056511056511056], ['22', 11.749128919860627], ['23', 8.322463768115941]]\n"
     ]
    }
   ],
   "source": [
    "avg_by_hour=[]\n",
    "for hour in counts_by_hour:\n",
    "    avg_by_hour.append([hour,comments_by_hour[hour]/counts_by_hour[hour]])\n",
    "print(sorted(avg_by_hour))\n"
   ]
  },
  {
   "cell_type": "markdown",
   "id": "4302fca0",
   "metadata": {},
   "source": [
    "Creat a list with where order is swapped:\n",
    "- `swap_avg_by_hour`\n",
    "\n",
    "Then assign the sorted resuluts from highest average number of comments to lowest by using the sorted method and assign the results to :\n",
    "\n",
    "- `sorted_swap`"
   ]
  },
  {
   "cell_type": "code",
   "execution_count": 7,
   "id": "9157131c",
   "metadata": {},
   "outputs": [],
   "source": [
    "swap_avg_by_hour=[]\n",
    "for i in avg_by_hour:\n",
    "    swap_avg_by_hour.append([i[1],i[0]])\n",
    "sorted_swap=sorted(swap_avg_by_hour, reverse=True)\n",
    "    "
   ]
  },
  {
   "cell_type": "markdown",
   "id": "21c597e0",
   "metadata": {},
   "source": [
    "Then we use the str.format() method to print the hour and average in the following format: `15:00: 38.59 average comments per post`."
   ]
  },
  {
   "cell_type": "code",
   "execution_count": 8,
   "id": "413d05c3",
   "metadata": {},
   "outputs": [
    {
     "name": "stdout",
     "output_type": "stream",
     "text": [
      "Top 5 Hours for Ask Posts Comments\n",
      "15:00: 39.67 average comments per post\n",
      "13:00: 22.22 average comments per post\n",
      "12:00: 15.45 average comments per post\n",
      "10:00: 13.76 average comments per post\n",
      "17:00: 13.73 average comments per post\n"
     ]
    }
   ],
   "source": [
    "print(\"Top 5 Hours for Ask Posts Comments\")\n",
    "template=\"{}:00: {:.2f} average comments per post\"\n",
    "for i in sorted_swap[:5]:\n",
    "    print(template.format(i[1],i[0]))\n",
    "    "
   ]
  },
  {
   "cell_type": "code",
   "execution_count": null,
   "id": "4d96c281",
   "metadata": {},
   "outputs": [],
   "source": []
  }
 ],
 "metadata": {
  "kernelspec": {
   "display_name": "Python 3",
   "language": "python",
   "name": "python3"
  },
  "language_info": {
   "codemirror_mode": {
    "name": "ipython",
    "version": 3
   },
   "file_extension": ".py",
   "mimetype": "text/x-python",
   "name": "python",
   "nbconvert_exporter": "python",
   "pygments_lexer": "ipython3",
   "version": "3.8.8"
  }
 },
 "nbformat": 4,
 "nbformat_minor": 5
}

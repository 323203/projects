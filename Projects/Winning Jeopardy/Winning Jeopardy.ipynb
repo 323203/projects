{
 "cells": [
  {
   "cell_type": "code",
   "execution_count": 1,
   "id": "ceae06c3",
   "metadata": {},
   "outputs": [
    {
     "data": {
      "text/html": [
       "<div>\n",
       "<style scoped>\n",
       "    .dataframe tbody tr th:only-of-type {\n",
       "        vertical-align: middle;\n",
       "    }\n",
       "\n",
       "    .dataframe tbody tr th {\n",
       "        vertical-align: top;\n",
       "    }\n",
       "\n",
       "    .dataframe thead th {\n",
       "        text-align: right;\n",
       "    }\n",
       "</style>\n",
       "<table border=\"1\" class=\"dataframe\">\n",
       "  <thead>\n",
       "    <tr style=\"text-align: right;\">\n",
       "      <th></th>\n",
       "      <th>Show Number</th>\n",
       "      <th>Air Date</th>\n",
       "      <th>Round</th>\n",
       "      <th>Category</th>\n",
       "      <th>Value</th>\n",
       "      <th>Question</th>\n",
       "      <th>Answer</th>\n",
       "    </tr>\n",
       "  </thead>\n",
       "  <tbody>\n",
       "    <tr>\n",
       "      <th>0</th>\n",
       "      <td>4680</td>\n",
       "      <td>2004-12-31</td>\n",
       "      <td>Jeopardy!</td>\n",
       "      <td>HISTORY</td>\n",
       "      <td>$200</td>\n",
       "      <td>For the last 8 years of his life, Galileo was ...</td>\n",
       "      <td>Copernicus</td>\n",
       "    </tr>\n",
       "    <tr>\n",
       "      <th>1</th>\n",
       "      <td>4680</td>\n",
       "      <td>2004-12-31</td>\n",
       "      <td>Jeopardy!</td>\n",
       "      <td>ESPN's TOP 10 ALL-TIME ATHLETES</td>\n",
       "      <td>$200</td>\n",
       "      <td>No. 2: 1912 Olympian; football star at Carlisl...</td>\n",
       "      <td>Jim Thorpe</td>\n",
       "    </tr>\n",
       "    <tr>\n",
       "      <th>2</th>\n",
       "      <td>4680</td>\n",
       "      <td>2004-12-31</td>\n",
       "      <td>Jeopardy!</td>\n",
       "      <td>EVERYBODY TALKS ABOUT IT...</td>\n",
       "      <td>$200</td>\n",
       "      <td>The city of Yuma in this state has a record av...</td>\n",
       "      <td>Arizona</td>\n",
       "    </tr>\n",
       "    <tr>\n",
       "      <th>3</th>\n",
       "      <td>4680</td>\n",
       "      <td>2004-12-31</td>\n",
       "      <td>Jeopardy!</td>\n",
       "      <td>THE COMPANY LINE</td>\n",
       "      <td>$200</td>\n",
       "      <td>In 1963, live on \"The Art Linkletter Show\", th...</td>\n",
       "      <td>McDonald's</td>\n",
       "    </tr>\n",
       "    <tr>\n",
       "      <th>4</th>\n",
       "      <td>4680</td>\n",
       "      <td>2004-12-31</td>\n",
       "      <td>Jeopardy!</td>\n",
       "      <td>EPITAPHS &amp; TRIBUTES</td>\n",
       "      <td>$200</td>\n",
       "      <td>Signer of the Dec. of Indep., framer of the Co...</td>\n",
       "      <td>John Adams</td>\n",
       "    </tr>\n",
       "  </tbody>\n",
       "</table>\n",
       "</div>"
      ],
      "text/plain": [
       "   Show Number    Air Date      Round                         Category  Value  \\\n",
       "0         4680  2004-12-31  Jeopardy!                          HISTORY   $200   \n",
       "1         4680  2004-12-31  Jeopardy!  ESPN's TOP 10 ALL-TIME ATHLETES   $200   \n",
       "2         4680  2004-12-31  Jeopardy!      EVERYBODY TALKS ABOUT IT...   $200   \n",
       "3         4680  2004-12-31  Jeopardy!                 THE COMPANY LINE   $200   \n",
       "4         4680  2004-12-31  Jeopardy!              EPITAPHS & TRIBUTES   $200   \n",
       "\n",
       "                                            Question      Answer  \n",
       "0  For the last 8 years of his life, Galileo was ...  Copernicus  \n",
       "1  No. 2: 1912 Olympian; football star at Carlisl...  Jim Thorpe  \n",
       "2  The city of Yuma in this state has a record av...     Arizona  \n",
       "3  In 1963, live on \"The Art Linkletter Show\", th...  McDonald's  \n",
       "4  Signer of the Dec. of Indep., framer of the Co...  John Adams  "
      ]
     },
     "execution_count": 1,
     "metadata": {},
     "output_type": "execute_result"
    }
   ],
   "source": [
    "import pandas as pd \n",
    "jeopardy=pd.read_csv(\"data/jeopardy.csv\")\n",
    "jeopardy.head()"
   ]
  },
  {
   "cell_type": "code",
   "execution_count": 2,
   "id": "ac881dad",
   "metadata": {},
   "outputs": [
    {
     "data": {
      "text/plain": [
       "Index(['Show Number', 'Air Date', 'Round', 'Category', 'Value', 'Question',\n",
       "       'Answer'],\n",
       "      dtype='object')"
      ]
     },
     "execution_count": 2,
     "metadata": {},
     "output_type": "execute_result"
    }
   ],
   "source": [
    "jeopardy.columns=jeopardy.columns.str.strip()\n",
    "jeopardy.columns\n",
    "\n"
   ]
  },
  {
   "cell_type": "code",
   "execution_count": 3,
   "id": "06be62ed",
   "metadata": {},
   "outputs": [
    {
     "name": "stdout",
     "output_type": "stream",
     "text": [
      "<class 'pandas.core.frame.DataFrame'>\n",
      "RangeIndex: 19999 entries, 0 to 19998\n",
      "Data columns (total 7 columns):\n",
      " #   Column       Non-Null Count  Dtype \n",
      "---  ------       --------------  ----- \n",
      " 0   Show Number  19999 non-null  int64 \n",
      " 1   Air Date     19999 non-null  object\n",
      " 2   Round        19999 non-null  object\n",
      " 3   Category     19999 non-null  object\n",
      " 4   Value        19999 non-null  object\n",
      " 5   Question     19999 non-null  object\n",
      " 6   Answer       19999 non-null  object\n",
      "dtypes: int64(1), object(6)\n",
      "memory usage: 1.1+ MB\n"
     ]
    }
   ],
   "source": [
    "jeopardy.info()"
   ]
  },
  {
   "cell_type": "code",
   "execution_count": 4,
   "id": "5b784f43",
   "metadata": {},
   "outputs": [],
   "source": [
    "import re\n",
    "def normalize_text(input):\n",
    "    input=input.lower()\n",
    "    input=re.sub('\\W',' ',input)\n",
    "    return input"
   ]
  },
  {
   "cell_type": "code",
   "execution_count": 5,
   "id": "3380f818",
   "metadata": {},
   "outputs": [
    {
     "data": {
      "text/plain": [
       "array(['$200', '$400', '$600', '$800', '$2,000', '$1000', '$1200',\n",
       "       '$1600', '$2000', '$3,200', 'None', '$5,000', '$100', '$300',\n",
       "       '$500', '$1,000', '$1,500', '$1,200', '$4,800', '$1,800', '$1,100',\n",
       "       '$2,200', '$3,400', '$3,000', '$4,000', '$1,600', '$6,800',\n",
       "       '$1,900', '$3,100', '$700', '$1,400', '$2,800', '$8,000', '$6,000',\n",
       "       '$2,400', '$12,000', '$3,800', '$2,500', '$6,200', '$10,000',\n",
       "       '$7,000', '$1,492', '$7,400', '$1,300', '$7,200', '$2,600',\n",
       "       '$3,300', '$5,400', '$4,500', '$2,100', '$900', '$3,600', '$2,127',\n",
       "       '$367', '$4,400', '$3,500', '$2,900', '$3,900', '$4,100', '$4,600',\n",
       "       '$10,800', '$2,300', '$5,600', '$1,111', '$8,200', '$5,800',\n",
       "       '$750', '$7,500', '$1,700', '$9,000', '$6,100', '$1,020', '$4,700',\n",
       "       '$2,021', '$5,200', '$3,389'], dtype=object)"
      ]
     },
     "execution_count": 5,
     "metadata": {},
     "output_type": "execute_result"
    }
   ],
   "source": [
    "jeopardy['Value'].unique()"
   ]
  },
  {
   "cell_type": "code",
   "execution_count": 51,
   "id": "586f11e4",
   "metadata": {},
   "outputs": [],
   "source": [
    "def normalize_digit(input):\n",
    "    input=input.lower()\n",
    "    try:\n",
    "        input=int(re.sub('\\W','',input))\n",
    "    except Exception:\n",
    "        input=0\n",
    "    return input"
   ]
  },
  {
   "cell_type": "code",
   "execution_count": 45,
   "id": "49ab354c",
   "metadata": {},
   "outputs": [],
   "source": [
    "jeopardy['clean_question']=jeopardy['Question'].apply(normalize_text)"
   ]
  },
  {
   "cell_type": "code",
   "execution_count": 46,
   "id": "a68e03c7",
   "metadata": {},
   "outputs": [
    {
     "data": {
      "text/plain": [
       "19325    adventurous 26th president  he was 1st to ride...\n",
       "19307         why april 28th was a bad day for capt  bligh\n",
       "19312    since  27  stars have made good impressions at...\n",
       "19299    sensitive mart crowley treatment of gays march...\n",
       "19274                                     formerly formosa\n",
       "                               ...                        \n",
       "1916     he started a book business from his home in 18...\n",
       "1917     peter  peter was an eater of this  he kept his...\n",
       "1960                          fred armisen as barack obama\n",
       "1918     this largest alaskan city lies at the head of ...\n",
       "1922     in 1997 tyco international moved to this u k  ...\n",
       "Name: clean_question, Length: 19999, dtype: object"
      ]
     },
     "execution_count": 46,
     "metadata": {},
     "output_type": "execute_result"
    }
   ],
   "source": [
    "jeopardy['clean_question']"
   ]
  },
  {
   "cell_type": "code",
   "execution_count": 47,
   "id": "960bdd17",
   "metadata": {},
   "outputs": [],
   "source": [
    "jeopardy['clean_answer']=jeopardy['Answer'].apply(normalize_text)"
   ]
  },
  {
   "cell_type": "code",
   "execution_count": 48,
   "id": "8abd6774",
   "metadata": {},
   "outputs": [
    {
     "data": {
      "text/plain": [
       "19325                     theodore roosevelt\n",
       "19307    the day of the mutiny on the bounty\n",
       "19312                 mann s chinese theatre\n",
       "19299                   the boys in the band\n",
       "19274                                 taiwan\n",
       "                        ...                 \n",
       "1916                      charles m   barnes\n",
       "1917                                 pumpkin\n",
       "1960                     saturday night live\n",
       "1918                               anchorage\n",
       "1922                                 bermuda\n",
       "Name: clean_answer, Length: 19999, dtype: object"
      ]
     },
     "execution_count": 48,
     "metadata": {},
     "output_type": "execute_result"
    }
   ],
   "source": [
    "jeopardy['clean_answer']"
   ]
  },
  {
   "cell_type": "code",
   "execution_count": 52,
   "id": "6fe54651",
   "metadata": {},
   "outputs": [],
   "source": [
    "jeopardy['value_clean']=jeopardy['Value'].apply(normalize_digit)"
   ]
  },
  {
   "cell_type": "code",
   "execution_count": 53,
   "id": "fc37a86e",
   "metadata": {},
   "outputs": [
    {
     "data": {
      "text/plain": [
       "19325       0\n",
       "19307     400\n",
       "19312     600\n",
       "19299     500\n",
       "19274     100\n",
       "         ... \n",
       "1916      200\n",
       "1917      200\n",
       "1960     1200\n",
       "1918      200\n",
       "1922      400\n",
       "Name: value_clean, Length: 19999, dtype: int64"
      ]
     },
     "execution_count": 53,
     "metadata": {},
     "output_type": "execute_result"
    }
   ],
   "source": [
    "jeopardy['value_clean']"
   ]
  },
  {
   "cell_type": "code",
   "execution_count": 13,
   "id": "2bc664b8",
   "metadata": {},
   "outputs": [],
   "source": [
    "jeopardy['Air Date']=pd.to_datetime(jeopardy['Air Date'])"
   ]
  },
  {
   "cell_type": "code",
   "execution_count": 14,
   "id": "232dfcfd",
   "metadata": {},
   "outputs": [
    {
     "data": {
      "text/plain": [
       "0       2004-12-31\n",
       "1       2004-12-31\n",
       "2       2004-12-31\n",
       "3       2004-12-31\n",
       "4       2004-12-31\n",
       "           ...    \n",
       "19994   2000-03-14\n",
       "19995   2000-03-14\n",
       "19996   2000-03-14\n",
       "19997   2000-03-14\n",
       "19998   2000-03-14\n",
       "Name: Air Date, Length: 19999, dtype: datetime64[ns]"
      ]
     },
     "execution_count": 14,
     "metadata": {},
     "output_type": "execute_result"
    }
   ],
   "source": [
    "jeopardy['Air Date']"
   ]
  },
  {
   "cell_type": "code",
   "execution_count": 15,
   "id": "ed2215f3",
   "metadata": {},
   "outputs": [],
   "source": [
    "def count_matches(row):\n",
    "    split_answer=row['clean_answer'].split()\n",
    "    split_question=row['clean_question'].split()\n",
    "    match_count=0\n",
    "    if \"the\" in split_answer:\n",
    "        split_answer.remove('the')\n",
    "    if len(split_answer)==0 :\n",
    "        return 0\n",
    "    for v in split_answer:\n",
    "        if v in split_question:\n",
    "            match_count+=1\n",
    "    return match_count/len(split_answer)\n",
    "        "
   ]
  },
  {
   "cell_type": "code",
   "execution_count": 16,
   "id": "47062499",
   "metadata": {},
   "outputs": [],
   "source": [
    "jeopardy[\"answer_in_question\"] = jeopardy.apply(count_matches,axis=1)"
   ]
  },
  {
   "cell_type": "code",
   "execution_count": 26,
   "id": "a56f6176",
   "metadata": {},
   "outputs": [],
   "source": [
    "mean_answer=jeopardy[\"answer_in_question\"].mean()*100"
   ]
  },
  {
   "cell_type": "markdown",
   "id": "35035ba9",
   "metadata": {},
   "source": [
    "### Recycled questions"
   ]
  },
  {
   "cell_type": "code",
   "execution_count": 27,
   "id": "5a7f8266",
   "metadata": {},
   "outputs": [
    {
     "name": "stdout",
     "output_type": "stream",
     "text": [
      "On average, the answer only makes up for about 6.29% of the question. This isn't a huge number, and means that we probably can't just hope that hearing a question will enable us to figure out the answer. We'll probably have to study.\n"
     ]
    }
   ],
   "source": [
    "print('''On average, the answer only makes up for about {:.2f}% of the question. This isn't a huge number, and means that we probably can't just hope that hearing a question will enable us to figure out the answer. We'll probably have to study.'''.format(mean_answer))"
   ]
  },
  {
   "cell_type": "code",
   "execution_count": 57,
   "id": "c6e682ac",
   "metadata": {},
   "outputs": [],
   "source": [
    "question_overlap=[]\n",
    "terms_used=set()\n",
    "jeopardy.sort_values('Air Date',inplace=True)\n",
    "for i,row in jeopardy.iterrows():\n",
    "    split_question=row['clean_question'].split(\" \")\n",
    "    split_question=[q for q in split_question if len(q)>5]\n",
    "    match_count=0\n",
    "    for word in split_question:\n",
    "        if word in terms_used :\n",
    "            match_count+=1\n",
    "        terms_used.add(word)\n",
    "    if len(split_question)>0:\n",
    "        match_count/=len(split_question)\n",
    "    question_overlap.append(match_count)\n",
    "jeopardy['question_overlap']=question_overlap\n",
    "mean_question=jeopardy['question_overlap'].mean()*100\n",
    "    \n",
    "\n",
    "    "
   ]
  },
  {
   "cell_type": "markdown",
   "id": "851ee6d3",
   "metadata": {},
   "source": [
    "### Low value vs high value questions"
   ]
  },
  {
   "cell_type": "code",
   "execution_count": 32,
   "id": "c48ec10e",
   "metadata": {},
   "outputs": [
    {
     "name": "stdout",
     "output_type": "stream",
     "text": [
      "There is about 72.17% overlap between terms in new questions and terms in old questions. This only looks at a small set of questions, and it doesn't look at phrases, it looks at single terms. This makes it relatively insignificant, but it does mean that it's worth looking more into the recycling of questions.\n"
     ]
    }
   ],
   "source": [
    "print('''There is about {:.2f}% overlap between terms in new questions and terms in old questions. This only looks at a small set of questions, and it doesn't look at phrases, it looks at single terms. This makes it relatively insignificant, but it does mean that it's worth looking more into the recycling of questions.'''.format(mean_question))"
   ]
  },
  {
   "cell_type": "code",
   "execution_count": 35,
   "id": "6342ec6d",
   "metadata": {},
   "outputs": [],
   "source": [
    "def determine_value(row):\n",
    "    if row['value_clean']>800:\n",
    "        value=1\n",
    "    else: \n",
    "        value=0\n",
    "    return value\n",
    "\n",
    "jeopardy['high_value']=jeopardy.apply(determine_value,axis=1)"
   ]
  },
  {
   "cell_type": "code",
   "execution_count": 36,
   "id": "ba72615f",
   "metadata": {},
   "outputs": [
    {
     "data": {
      "text/plain": [
       "0    14265\n",
       "1     5734\n",
       "Name: high_value, dtype: int64"
      ]
     },
     "execution_count": 36,
     "metadata": {},
     "output_type": "execute_result"
    }
   ],
   "source": [
    "jeopardy['high_value'].value_counts(dropna=False)"
   ]
  },
  {
   "cell_type": "code",
   "execution_count": 37,
   "id": "a287dfac",
   "metadata": {},
   "outputs": [],
   "source": [
    "def count_usage(term):\n",
    "    low_count=0\n",
    "    high_count=0\n",
    "    for i,row in jeopardy.iterrows():\n",
    "        if term in row['clean_question'].split(\" \"):\n",
    "            if row['high_value']==1:\n",
    "                high_count+=1\n",
    "            else:\n",
    "                low_count+=1\n",
    "    return high_count,low_count\n"
   ]
  },
  {
   "cell_type": "code",
   "execution_count": 38,
   "id": "a86fc1b6",
   "metadata": {},
   "outputs": [],
   "source": [
    "from random import choice\n",
    "\n",
    "terms_used_list = list(terms_used)\n",
    "comparison_terms = [choice(terms_used_list) for _ in range(10)]"
   ]
  },
  {
   "cell_type": "code",
   "execution_count": 40,
   "id": "1f932a5e",
   "metadata": {},
   "outputs": [
    {
     "data": {
      "text/plain": [
       "[(2, 1),\n",
       " (0, 1),\n",
       " (1, 1),\n",
       " (8, 16),\n",
       " (1, 0),\n",
       " (1, 2),\n",
       " (2, 1),\n",
       " (2, 3),\n",
       " (0, 1),\n",
       " (0, 1)]"
      ]
     },
     "execution_count": 40,
     "metadata": {},
     "output_type": "execute_result"
    }
   ],
   "source": [
    "observed_expected=[]\n",
    "for term in comparison_terms:\n",
    "    observed_expected.append(count_usage(term))\n",
    "\n",
    "observed_expected"
   ]
  },
  {
   "cell_type": "code",
   "execution_count": 59,
   "id": "bfb83635",
   "metadata": {},
   "outputs": [
    {
     "data": {
      "text/plain": [
       "[Power_divergenceResult(statistic=2.1177104383031944, pvalue=0.14560406868263753),\n",
       " Power_divergenceResult(statistic=0.401962846126884, pvalue=0.5260772985705469),\n",
       " Power_divergenceResult(statistic=0.4448774816612795, pvalue=0.5047776487545996),\n",
       " Power_divergenceResult(statistic=0.255049337875229, pvalue=0.6135419116911882),\n",
       " Power_divergenceResult(statistic=2.487792117195675, pvalue=0.11473257634454047),\n",
       " Power_divergenceResult(statistic=0.03188116723440362, pvalue=0.8582887163235293),\n",
       " Power_divergenceResult(statistic=2.1177104383031944, pvalue=0.14560406868263753),\n",
       " Power_divergenceResult(statistic=0.3137668167849311, pvalue=0.5753778622944691),\n",
       " Power_divergenceResult(statistic=0.401962846126884, pvalue=0.5260772985705469),\n",
       " Power_divergenceResult(statistic=0.401962846126884, pvalue=0.5260772985705469)]"
      ]
     },
     "execution_count": 59,
     "metadata": {},
     "output_type": "execute_result"
    }
   ],
   "source": [
    "from scipy.stats import chisquare\n",
    "high_value_count = jeopardy[jeopardy[\"high_value\"] == 1].shape[0]\n",
    "low_value_count = jeopardy[jeopardy[\"high_value\"] == 0].shape[0]\n",
    "\n",
    "chi_squared = []\n",
    "for obs in observed_expected:\n",
    "    total = sum(obs)\n",
    "    total_prop = total / jeopardy.shape[0]\n",
    "    high_value_exp = total_prop * high_value_count\n",
    "    low_value_exp = total_prop * low_value_count\n",
    "    \n",
    "    observed = [obs[0], obs[1]]\n",
    "    expected = [high_value_exp, low_value_exp]\n",
    "    chi_squared.append(chisquare(observed, expected))\n",
    "    \n",
    "chi_squared"
   ]
  },
  {
   "cell_type": "code",
   "execution_count": null,
   "id": "40529bb0",
   "metadata": {},
   "outputs": [],
   "source": []
  }
 ],
 "metadata": {
  "kernelspec": {
   "display_name": "Python 3",
   "language": "python",
   "name": "python3"
  },
  "language_info": {
   "codemirror_mode": {
    "name": "ipython",
    "version": 3
   },
   "file_extension": ".py",
   "mimetype": "text/x-python",
   "name": "python",
   "nbconvert_exporter": "python",
   "pygments_lexer": "ipython3",
   "version": "3.8.8"
  }
 },
 "nbformat": 4,
 "nbformat_minor": 5
}
